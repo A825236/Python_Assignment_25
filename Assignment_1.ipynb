{
 "cells": [
  {
   "cell_type": "markdown",
   "id": "14c733a3-ad8f-4722-9a4f-f2447d156226",
   "metadata": {},
   "source": [
    "1. Write a Python program to print &quot;Hello Python&quot;?"
   ]
  },
  {
   "cell_type": "code",
   "execution_count": 48,
   "id": "65304824-fb49-423d-827b-bf53ab0cc86b",
   "metadata": {},
   "outputs": [
    {
     "name": "stdout",
     "output_type": "stream",
     "text": [
      "Hello Python\n"
     ]
    }
   ],
   "source": [
    "welcome = (\"Hello Python\")\n",
    "print(welcome)"
   ]
  },
  {
   "cell_type": "markdown",
   "id": "aad7cf8f-06ed-4505-9a81-42aa1ac234ba",
   "metadata": {},
   "source": [
    "2. Write a Python program to do arithmetical operations addition and division.?"
   ]
  },
  {
   "cell_type": "code",
   "execution_count": 50,
   "id": "134d2f64-3379-41c6-95ca-2c3ddb9d174b",
   "metadata": {},
   "outputs": [
    {
     "name": "stdin",
     "output_type": "stream",
     "text": [
      "Enter the first number 20\n",
      "Enter the second number 30\n"
     ]
    },
    {
     "name": "stdout",
     "output_type": "stream",
     "text": [
      "0.6666666666666666\n"
     ]
    }
   ],
   "source": [
    "a = float(input(\"Enter the first number\"))\n",
    "b = float(input(\"Enter the second number\"))\n",
    "\n",
    "division_a_b = a / b\n",
    "print(division_a_b)"
   ]
  },
  {
   "cell_type": "code",
   "execution_count": 52,
   "id": "d85f8484-89a5-400c-ba6e-5dfc7f81a33b",
   "metadata": {},
   "outputs": [
    {
     "name": "stdin",
     "output_type": "stream",
     "text": [
      "Enter the first number 20\n",
      "Enter the second number 30\n"
     ]
    },
    {
     "name": "stdout",
     "output_type": "stream",
     "text": [
      "50.0\n"
     ]
    }
   ],
   "source": [
    "a = float(input(\"Enter the first number\"))\n",
    "b = float(input(\"Enter the second number\"))\n",
    "\n",
    "sum_a_b = a + b\n",
    "print(sum_a_b)"
   ]
  },
  {
   "cell_type": "markdown",
   "id": "702f18a8-e6bc-4f46-a818-735a305b1f11",
   "metadata": {},
   "source": [
    "3. Write a Python program to find the area of a triangle?"
   ]
  },
  {
   "cell_type": "code",
   "execution_count": 6,
   "id": "5da68b41-43e2-4fe7-89f5-c2bd7981489a",
   "metadata": {},
   "outputs": [
    {
     "name": "stdin",
     "output_type": "stream",
     "text": [
      "Enter the values of the base :  10\n",
      "Enter the value of height :  40\n"
     ]
    },
    {
     "name": "stdout",
     "output_type": "stream",
     "text": [
      "Area of triangles is :  200.0\n"
     ]
    }
   ],
   "source": [
    "base = int(input(\"Enter the values of the base : \"))\n",
    "height = int(input(\"Enter the value of height : \"))\n",
    "area = 1/2*(base)*(height)\n",
    "print(\"Area of triangles is : \",area)"
   ]
  },
  {
   "cell_type": "markdown",
   "id": "119e5202-b868-44ca-a835-d2c72b6120f2",
   "metadata": {},
   "source": [
    "4. Write a Python program to swap two variables?"
   ]
  },
  {
   "cell_type": "code",
   "execution_count": 10,
   "id": "72ac17e5-1485-4315-bdb5-5a099b3dc826",
   "metadata": {},
   "outputs": [
    {
     "name": "stdout",
     "output_type": "stream",
     "text": [
      "First variable value after swap : 30\n",
      "Second variable value after swap : 20\n"
     ]
    }
   ],
   "source": [
    "first_variable = 20\n",
    "second_variable = 30\n",
    "first_variable,second_variable = second_variable,first_variable\n",
    "\n",
    "print(\"First variable value after swap :\",first_variable)\n",
    "print(\"Second variable value after swap :\",second_variable)"
   ]
  },
  {
   "cell_type": "markdown",
   "id": "7303b5b2-541c-4d18-95aa-83856fc2c020",
   "metadata": {},
   "source": [
    "5. Write a Python program to generate a random number?"
   ]
  },
  {
   "cell_type": "code",
   "execution_count": 44,
   "id": "c6f0f4f2-8bd3-4451-b836-2d6a7f839cfd",
   "metadata": {},
   "outputs": [
    {
     "name": "stdout",
     "output_type": "stream",
     "text": [
      "random number is: 30\n"
     ]
    }
   ],
   "source": [
    "import random\n",
    "\n",
    "random_number = random.randint(1,100)\n",
    "\n",
    "print(f\"random number is:\",random_number)"
   ]
  },
  {
   "cell_type": "code",
   "execution_count": 42,
   "id": "4a77ba86-056b-4b33-b0e5-de68d45ec8dc",
   "metadata": {},
   "outputs": [
    {
     "data": {
      "text/plain": [
       "15"
      ]
     },
     "execution_count": 42,
     "metadata": {},
     "output_type": "execute_result"
    }
   ],
   "source": [
    "import random\n",
    "random.randrange(1,25,2)"
   ]
  },
  {
   "cell_type": "code",
   "execution_count": null,
   "id": "be28879a-963a-4a75-8db6-a3515047cb77",
   "metadata": {},
   "outputs": [],
   "source": []
  },
  {
   "cell_type": "code",
   "execution_count": null,
   "id": "afeb50a4-3417-49fe-8e46-70fb8ecda6f4",
   "metadata": {},
   "outputs": [],
   "source": []
  }
 ],
 "metadata": {
  "kernelspec": {
   "display_name": "Python 3 (ipykernel)",
   "language": "python",
   "name": "python3"
  },
  "language_info": {
   "codemirror_mode": {
    "name": "ipython",
    "version": 3
   },
   "file_extension": ".py",
   "mimetype": "text/x-python",
   "name": "python",
   "nbconvert_exporter": "python",
   "pygments_lexer": "ipython3",
   "version": "3.12.7"
  }
 },
 "nbformat": 4,
 "nbformat_minor": 5
}
